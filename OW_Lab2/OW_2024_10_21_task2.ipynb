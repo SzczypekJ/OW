{
 "cells": [
  {
   "cell_type": "markdown",
   "metadata": {
    "id": "uB3T-bqseeOv"
   },
   "source": [
    "# Optymalizacja Wielokryterialna: Ćw.2 - Optymalizacja wielokryterialna dyskretna\n",
    "Data: 21.10.2024r.  \n",
    "Zespół: Krzysztof Kordal, Jakub Szczypek"
   ]
  },
  {
   "cell_type": "code",
   "execution_count": 2,
   "metadata": {
    "id": "8sUkfOladT_Y"
   },
   "outputs": [],
   "source": [
    "import numpy as np\n",
    "import matplotlib.pyplot as plt\n",
    "import time"
   ]
  },
  {
   "cell_type": "code",
   "execution_count": 2,
   "metadata": {
    "colab": {
     "base_uri": "https://localhost:8080/",
     "height": 564
    },
    "id": "OczaDw5RXYyL",
    "outputId": "d90c0969-b23a-4c82-dd99-09d9c5bac95d"
   },
   "outputs": [
    {
     "data": {
      "image/png": "[encoded data removed]",
      "text/plain": [
       "<Figure size 800x600 with 1 Axes>"
      ]
     },
     "metadata": {},
     "output_type": "display_data"
    }
   ],
   "source": [
    "# Given points\n",
    "points = [(5, 5), (3, 6), (4, 4), (5, 3), (3, 3), (1, 8), (3, 4), (4, 5), (3, 10), (6, 6), (4, 1), (3, 5)]\n",
    "\n",
    "# Extracting x and y coordinates\n",
    "x_coords, y_coords = zip(*points)\n",
    "\n",
    "# Plotting the points\n",
    "plt.figure(figsize=(8, 6))\n",
    "plt.scatter(x_coords, y_coords, c='blue', marker='o')\n",
    "\n",
    "# Adding labels and title\n",
    "for point in points:\n",
    "    plt.annotate(f\"{point}\", (point[0], point[1]))\n",
    "plt.xlabel('X')\n",
    "plt.ylabel('Y')\n",
    "plt.title('Punkty używane w przykładach')\n",
    "\n",
    "# Display the plot\n",
    "plt.grid(True)\n",
    "plt.show()\n"
   ]
  },
  {
   "cell_type": "code",
   "execution_count": 3,
   "metadata": {
    "id": "Hnq0hwqxDRsE"
   },
   "outputs": [],
   "source": [
    "# Class for comparing x<=y with counting\n",
    "class ComparisonCounter:\n",
    "    def __init__(self):\n",
    "        self.comparison_count_points = 0\n",
    "        self.comparison_count_coords = 0\n",
    "\n",
    "    # less or equal (<=)\n",
    "    def le(self, x, y):\n",
    "        self.comparison_count_coords += 1\n",
    "        return x <= y"
   ]
  },
  {
   "cell_type": "markdown",
   "metadata": {
    "id": "x5eIZgP0fAzW"
   },
   "source": [
    "## 1. Algorytm naiwny bez filtracji:"
   ]
  },
  {
   "cell_type": "code",
   "execution_count": 4,
   "metadata": {
    "colab": {
     "base_uri": "https://localhost:8080/",
     "height": 0
    },
    "id": "HV6olG1BWX3C",
    "outputId": "a209872f-8471-4730-89b7-255037dc7ce6"
   },
   "outputs": [
    {
     "name": "stdout",
     "output_type": "stream",
     "text": [
      "Punkty niezdominowane P(X):\n",
      "(3, 3)\n",
      "(1, 8)\n",
      "(4, 1)\n",
      "Porównania pary punktów: 19\n",
      "Porównania pary współrzędnych: 53\n",
      "Czas: 0.168 [ms]\n"
     ]
    }
   ],
   "source": [
    "def naive_nondominated_sort(X):\n",
    "    n = len(X)\n",
    "    P = []\n",
    "    dominated = [False] * n  # Tablica śledząca, czy punkt został zdominowany\n",
    "\n",
    "    comp_cnt = ComparisonCounter()\n",
    "\n",
    "    for i in range(n):\n",
    "        if dominated[i]:\n",
    "            continue  # Jeśli punkt jest już zdominowany, pomijamy go\n",
    "        Y = X[i]\n",
    "        for j in range(n):\n",
    "            if i == j or dominated[j]:\n",
    "                continue\n",
    "\n",
    "            comp_cnt.comparison_count_points += 1\n",
    "\n",
    "            # print(f\"Iter ({i}, {j}) | Y={Y} Xj={X[j]}\")\n",
    "            if (comp_cnt.le(Y[0], X[j][0]) and\n",
    "                comp_cnt.le(Y[1], X[j][1])):\n",
    "                # Y dominuje X[j]\n",
    "                # print(f\"Del Xj! | Y{Y} <= Xj{X[j]}\")\n",
    "                dominated[j] = True\n",
    "            elif (comp_cnt.le(X[j][0], Y[0]) and\n",
    "                  comp_cnt.le(X[j][1], Y[1])):\n",
    "                # X[j] dominuje Y\n",
    "                # print(f\"Del Y! | Xj{X[j]} <= Y{Y}\")\n",
    "                dominated[i] = True\n",
    "                break  # Nie ma sensu dalej sprawdzać, Y jest zdominowany\n",
    "        if not dominated[i]:\n",
    "            P.append(Y)  # Dodajemy Y do listy punktów niezdominowanych\n",
    "\n",
    "    return P, comp_cnt.comparison_count_points, comp_cnt.comparison_count_coords\n",
    "\n",
    "# Przykładowe dane\n",
    "X = [(5,5), (3,6), (4,4), (5,3), (3,3), (1,8), (3,4), (4,5), (3,10), (6,6), (4,1), (3,5)]\n",
    "\n",
    "# Uruchomienie algorytmu\n",
    "start = time.time()\n",
    "P, comparison_count, coordinate_comparison_count = naive_nondominated_sort(X)\n",
    "stop = time.time()\n",
    "\n",
    "print(\"Punkty niezdominowane P(X):\")\n",
    "for point in P:\n",
    "    print(point)\n",
    "print(f\"Porównania pary punktów: {comparison_count}\")\n",
    "print(f\"Porównania pary współrzędnych: {coordinate_comparison_count}\")\n",
    "print(f\"Czas: {(stop-start) * 10**3:.3f} [ms]\")"
   ]
  },
  {
   "cell_type": "markdown",
   "metadata": {
    "id": "0jqaVT-zfJwM"
   },
   "source": [
    "## 2. Algorytm naiwny z filtracją punktow zdominowanych:"
   ]
  },
  {
   "cell_type": "code",
   "execution_count": 5,
   "metadata": {
    "colab": {
     "base_uri": "https://localhost:8080/",
     "height": 0
    },
    "id": "rEQ9Y3XaaK_v",
    "outputId": "92fb2216-2550-44ca-dd11-bfd4b57c0a6d"
   },
   "outputs": [
    {
     "name": "stdout",
     "output_type": "stream",
     "text": [
      "Punkty niezdominowane P(X):\n",
      "(3, 3)\n",
      "(1, 8)\n",
      "(4, 1)\n",
      "Porównania pary punktów: 19\n",
      "Porównania pary współrzędnych: 44\n",
      "Czas: 0.176 [ms]\n"
     ]
    }
   ],
   "source": [
    "def nondominated_sort_with_filtering(X):\n",
    "    P = []  # Lista punktów niezdominowanych\n",
    "    X_list = X.copy()  # Kopia listy X, aby nie modyfikować oryginału\n",
    "\n",
    "    comp_cnt = ComparisonCounter()\n",
    "\n",
    "    while len(X_list) > 0:\n",
    "        Y = X_list[0]  # Wybieramy pierwszy punkt z listy\n",
    "        i = 1\n",
    "        while i < len(X_list):\n",
    "            X_j = X_list[i]\n",
    "            comp_cnt.comparison_count_points += 1\n",
    "\n",
    "            # Sprawdzenie czy Y dominuje X_j\n",
    "            if (comp_cnt.le(Y[0], X_j[0]) and\n",
    "                comp_cnt.le(Y[1], X_j[1])):\n",
    "                # Y dominuje X_j\n",
    "                X_list.pop(i)\n",
    "            elif (comp_cnt.le(X_j[0], Y[0]) and\n",
    "                  comp_cnt.le(X_j[1], Y[1])):\n",
    "                # X_j dominuje Y\n",
    "                X_list.pop(0)  # Usuwamy Y\n",
    "                Y = X_j  # Aktualizujemy Y\n",
    "                i = 1  # Resetujemy i, bo lista się zmieniła\n",
    "            else:\n",
    "                i += 1\n",
    "\n",
    "        # Dodajemy Y do listy punktów niezdominowanych\n",
    "        P.append(Y)\n",
    "        # Filtracja: usuwamy z X_list wszystkie punkty zdominowane przez Y\n",
    "        i = 0\n",
    "        while i < len(X_list):\n",
    "            point = X_list[i]\n",
    "            # Sprawdzanie, czy Y dominuje point\n",
    "            comp_cnt.comparison_count_points += 1\n",
    "            if (comp_cnt.le(Y[0], point[0]) and\n",
    "                comp_cnt.le(Y[1], point[1])):\n",
    "                X_list.pop(i)\n",
    "            else:\n",
    "                i += 1\n",
    "\n",
    "        # X_list = [point for point in X_list if not ((Y[0] <= point[0] and Y[1] <= point[1]) )] #and (Y[0] < point[0] or Y[1] < point[1]))]\n",
    "        # Usuwamy Y z X_list\n",
    "        if Y in X_list:\n",
    "            X_list.remove(Y)\n",
    "        # Sprawdzamy, czy w X_list został tylko jeden punkt\n",
    "        if len(X_list) == 1:\n",
    "            P.append(X_list[0])\n",
    "            break\n",
    "    return P, comp_cnt.comparison_count_points, comp_cnt.comparison_count_coords\n",
    "\n",
    "# Przykładowe dane\n",
    "X = [(5,5), (3,6), (4,4), (5,3), (3,3), (1,8), (3,4), (4,5), (3,10), (6,6), (4,1), (3,5)]\n",
    "\n",
    "# Uruchomienie algorytmu\n",
    "start = time.time()\n",
    "P, comparison_count, coordinate_comparison_count = nondominated_sort_with_filtering(X)\n",
    "stop = time.time()\n",
    "\n",
    "print(\"Punkty niezdominowane P(X):\")\n",
    "for point in P:\n",
    "    print(point)\n",
    "print(f\"Porównania pary punktów: {comparison_count}\")\n",
    "print(f\"Porównania pary współrzędnych: {coordinate_comparison_count}\")\n",
    "print(f\"Czas: {(stop-start) * 10**3:.3f} [ms]\")\n"
   ]
  },
  {
   "cell_type": "markdown",
   "metadata": {
    "id": "2Dm263aCd3h3"
   },
   "source": [
    "### 2.1. Przykład błędnego wyniku w przypadku usunięcia $X(i)$ i pominięcia filtracji"
   ]
  },
  {
   "cell_type": "code",
   "execution_count": 6,
   "metadata": {
    "colab": {
     "base_uri": "https://localhost:8080/",
     "height": 0
    },
    "id": "m7-NErwkd5V0",
    "outputId": "1f9fa386-8929-4bdd-ad2e-f3eccf911aef"
   },
   "outputs": [
    {
     "name": "stdout",
     "output_type": "stream",
     "text": [
      "Punkty niezdominowane P(X):\n",
      "(3, 3)\n",
      "(1, 8)\n",
      "(3, 4)\n",
      "(4, 1)\n",
      "(3, 5)\n",
      "Porównania pary punktów: 34\n",
      "Porównania pary współrzędnych: 50\n",
      "Czas: 0.173 [ms]\n"
     ]
    }
   ],
   "source": [
    "def naive_nondominated_sort_without_filtering(X):\n",
    "    n = len(X)\n",
    "    P = []\n",
    "    X_list = X.copy()\n",
    "\n",
    "    comp_cnt = ComparisonCounter()\n",
    "\n",
    "    i = 0\n",
    "    while i < len(X_list):\n",
    "        Y = X_list[i]\n",
    "        is_dominated = False\n",
    "        for j in range(len(X_list)):\n",
    "            if i == j:\n",
    "                continue\n",
    "            comp_cnt.comparison_count_points += 1\n",
    "            if (comp_cnt.le(X_list[j][0], Y[0]) and\n",
    "                comp_cnt.le(X_list[j][1], Y[1])):\n",
    "                # X_list[j] dominuje Y\n",
    "                is_dominated = True\n",
    "                break\n",
    "        if not is_dominated:\n",
    "            P.append(Y)\n",
    "        # Usuwamy Y z listy, ale nie filtrujemy zdominowanych punktów\n",
    "        X_list.pop(i)\n",
    "    return P, comp_cnt.comparison_count_points, comp_cnt.comparison_count_coords\n",
    "\n",
    "# Uruchomienie algorytmu\n",
    "start = time.time()\n",
    "P, comparison_count, coordinate_comparison_count = naive_nondominated_sort_without_filtering(X)\n",
    "stop = time.time()\n",
    "\n",
    "print(\"Punkty niezdominowane P(X):\")\n",
    "for point in P:\n",
    "    print(point)\n",
    "print(f\"Porównania pary punktów: {comparison_count}\")\n",
    "print(f\"Porównania pary współrzędnych: {coordinate_comparison_count}\")\n",
    "print(f\"Czas: {(stop-start) * 10**3:.3f} [ms]\")"
   ]
  },
  {
   "cell_type": "markdown",
   "metadata": {
    "id": "IEWJrCSKfWAq"
   },
   "source": [
    "## 3. Algorytm naiwny oparty o punkt idealny (szkic):"
   ]
  },
  {
   "cell_type": "code",
   "execution_count": 7,
   "metadata": {
    "colab": {
     "base_uri": "https://localhost:8080/",
     "height": 0
    },
    "id": "QY-NE9B-w53O",
    "outputId": "bf24af2d-392c-4fd6-c6b5-8f1bbd16d690"
   },
   "outputs": [
    {
     "name": "stdout",
     "output_type": "stream",
     "text": [
      "Punkty niezdominowane P(X):\n",
      "(3, 3)\n",
      "(4, 1)\n",
      "(1, 8)\n",
      "Porównania pary punktów: 12\n",
      "Porównania pary współrzędnych: 22\n",
      "Czas: 0.261 ms\n"
     ]
    }
   ],
   "source": [
    "import time\n",
    "\n",
    "def calculate_ideal_point(X):\n",
    "    k = len(X[0])  # Wymiar przestrzeni\n",
    "    xmin = [min(point[i] for point in X) for i in range(k)]\n",
    "    return xmin\n",
    "\n",
    "def calculate_distances(X, xmin):\n",
    "    distances = []\n",
    "    for idx, point in enumerate(X):\n",
    "        dist = sum((point[i] - xmin[i]) ** 2 for i in range(len(xmin)))\n",
    "        distances.append((dist, idx))\n",
    "    return distances\n",
    "\n",
    "def ideal_point_algorithm(X):\n",
    "    P = []  # Lista punktów niezdominowanych\n",
    "    X_set = set(X)  # Zbiór punktów do przetworzenia\n",
    "\n",
    "    comp_cnt = ComparisonCounter()\n",
    "\n",
    "    xmin = calculate_ideal_point(X)\n",
    "\n",
    "    # Obliczanie odległości do punktu idealnego\n",
    "    distances = calculate_distances(X, xmin)\n",
    "\n",
    "    # Sortowanie punktów według odległości od punktu idealnego\n",
    "    distances.sort()\n",
    "    sorted_points = [X[idx] for dist, idx in distances]\n",
    "\n",
    "    for current_point in sorted_points:\n",
    "        if current_point not in X_set:\n",
    "            continue  # Punkt został już usunięty\n",
    "        # Usuwanie zdominowanych punktów przez current_point\n",
    "        dominated_points = set()\n",
    "        for point in X_set:\n",
    "            if point != current_point:\n",
    "                comp_cnt.comparison_count_points += 1\n",
    "                if (comp_cnt.le(current_point[0], point[0]) and\n",
    "                    comp_cnt.le(current_point[1], point[1])):\n",
    "                    dominated_points.add(point)\n",
    "        X_set -= dominated_points\n",
    "        # Dodawanie current_point do P\n",
    "        if current_point not in P:\n",
    "            P.append(current_point)\n",
    "        # Usuwanie current_point z X_set\n",
    "        X_set.remove(current_point)\n",
    "        # Sprawdzenie liczby pozostałych punktów\n",
    "        if len(X_set) == 1:\n",
    "            remaining_point = next(iter(X_set))\n",
    "            if remaining_point not in P:\n",
    "                P.append(remaining_point)\n",
    "            break\n",
    "    return P, comp_cnt.comparison_count_points, comp_cnt.comparison_count_coords\n",
    "\n",
    "# Przykładowe dane\n",
    "X = [(5,5), (3,6), (4,4), (5,3), (3,3), (1,8), (3,4), (4,5), (3,10), (6,6), (4,1), (3,5)]\n",
    "\n",
    "# Uruchomienie algorytmu\n",
    "start_time = time.time()\n",
    "P, comparison_count, coordinate_comparison_count = ideal_point_algorithm(X)\n",
    "end_time = time.time()\n",
    "\n",
    "# Wyświetlanie wyników\n",
    "print(\"Punkty niezdominowane P(X):\")\n",
    "for point in P:\n",
    "    print(point)\n",
    "\n",
    "print(f\"Porównania pary punktów: {comparison_count}\")\n",
    "print(f\"Porównania pary współrzędnych: {coordinate_comparison_count}\")\n",
    "print(f\"Czas: {(end_time - start_time) * 10**3:.3f} ms\")\n"
   ]
  },
  {
   "cell_type": "markdown",
   "metadata": {
    "id": "kYjo1CiKe31e"
   },
   "source": [
    "## Porównanie algorytmów:\n",
    "\n",
    "| Algorytm                                   | Liczba porównań<br>par punktów | Liczba porównań<br>par współrzędnych | Czas obliczeń [ms] |\n",
    "|--------------------------------------------|:------------------------------:|:------------------------------------:|-------------------:|\n",
    "| 1. Naiwny bez filtracji                    | 19                             |                                   53 |              0.168 |\n",
    "| 2. Naiwny z filtracją pkt-ów zdominowanych |                             19 |                                   44 |              0.176 |\n",
    "| 3. Naiwny oparty o punkt idealny           |                             12 |                                   22 |              0.261 |"
   ]
  }
 ],
 "metadata": {
  "colab": {
   "provenance": [],
   "toc_visible": true
  },
  "kernelspec": {
   "display_name": ".venv",
   "language": "python",
   "name": "python3"
  },
  "language_info": {
   "codemirror_mode": {
    "name": "ipython",
    "version": 3
   },
   "file_extension": ".py",
   "mimetype": "text/x-python",
   "name": "python",
   "nbconvert_exporter": "python",
   "pygments_lexer": "ipython3",
   "version": "3.13.0"
  }
 },
 "nbformat": 4,
 "nbformat_minor": 0
}
